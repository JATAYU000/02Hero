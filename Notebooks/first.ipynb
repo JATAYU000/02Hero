{
 "cells": [
  {
   "cell_type": "code",
   "execution_count": 25,
   "id": "b17d647d-6ffc-4ddb-b648-16c27f8099fc",
   "metadata": {},
   "outputs": [],
   "source": [
    "import math\n",
    "import numpy as np\n",
    "import matplotlib.pyplot as plt\n",
    "%matplotlib inline"
   ]
  },
  {
   "cell_type": "code",
   "execution_count": 31,
   "id": "90d11770-c7fa-4cb8-a650-28c36d29c2fc",
   "metadata": {},
   "outputs": [
    {
     "data": {
      "text/plain": [
       "<contextlib.ExitStack at 0x7abbf692bf50>"
      ]
     },
     "execution_count": 31,
     "metadata": {},
     "output_type": "execute_result"
    }
   ],
   "source": [
    "import matplotlib\n",
    "matplotlib.use('TkAgg')\n",
    "from matplotlib import pyplot as plt\n",
    "plt.ion()"
   ]
  },
  {
   "cell_type": "code",
   "execution_count": 33,
   "id": "b0c8b238-fcbd-4320-b6e1-5062dd949710",
   "metadata": {},
   "outputs": [
    {
     "data": {
      "text/plain": [
       "(array([1., 0., 0., 0., 0., 0., 0., 1., 0., 1.]),\n",
       " array([ 3. ,  3.7,  4.4,  5.1,  5.8,  6.5,  7.2,  7.9,  8.6,  9.3, 10. ]),\n",
       " <BarContainer object of 10 artists>)"
      ]
     },
     "execution_count": 33,
     "metadata": {},
     "output_type": "execute_result"
    }
   ],
   "source": [
    "plt.hist([3,8,10])"
   ]
  },
  {
   "cell_type": "code",
   "execution_count": 8,
   "id": "f57f4375-636d-4cd4-8f49-9dbf514a181e",
   "metadata": {},
   "outputs": [],
   "source": [
    "def f(x):\n",
    "    return 4*x**2 -6*x + 9"
   ]
  },
  {
   "cell_type": "code",
   "execution_count": 10,
   "id": "3163dc08-1d6e-462c-9caa-1484e3e7b19c",
   "metadata": {},
   "outputs": [
    {
     "data": {
      "text/plain": [
       "27"
      ]
     },
     "execution_count": 10,
     "metadata": {},
     "output_type": "execute_result"
    }
   ],
   "source": [
    "f(3)"
   ]
  },
  {
   "cell_type": "code",
   "execution_count": 12,
   "id": "07e8c695-64f8-4dd7-a823-dce74ac7cd2f",
   "metadata": {},
   "outputs": [],
   "source": [
    "x = np.arange(-5,5,0.25)\n",
    "y = f(x)"
   ]
  },
  {
   "cell_type": "code",
   "execution_count": 14,
   "id": "f6658cc2-799e-4508-bd2f-25fd98852310",
   "metadata": {},
   "outputs": [
    {
     "data": {
      "text/plain": [
       "[<matplotlib.lines.Line2D at 0x7abbf8e95220>]"
      ]
     },
     "execution_count": 14,
     "metadata": {},
     "output_type": "execute_result"
    }
   ],
   "source": [
    "%matplotlib inline\n",
    "fig, ax = plt.subplots() \n",
    "ax.plot(x,y)"
   ]
  },
  {
   "cell_type": "code",
   "execution_count": null,
   "id": "0b91be41-0e1d-42c9-adbe-18d077fdd2d2",
   "metadata": {},
   "outputs": [],
   "source": []
  },
  {
   "cell_type": "code",
   "execution_count": null,
   "id": "918d7dfc-c1e3-408d-b6f3-c5d2f830843e",
   "metadata": {},
   "outputs": [],
   "source": []
  }
 ],
 "metadata": {
  "kernelspec": {
   "display_name": "Python 3 (ipykernel)",
   "language": "python",
   "name": "python3"
  },
  "language_info": {
   "codemirror_mode": {
    "name": "ipython",
    "version": 3
   },
   "file_extension": ".py",
   "mimetype": "text/x-python",
   "name": "python",
   "nbconvert_exporter": "python",
   "pygments_lexer": "ipython3",
   "version": "3.12.4"
  }
 },
 "nbformat": 4,
 "nbformat_minor": 5
}
