import math
import numpy
import matplotlib.pyplot as plt
%matplotlib inline



