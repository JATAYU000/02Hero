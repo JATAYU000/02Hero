import math
import numpy as np
import matplotlib.pyplot as plt
%matplotlib inline


plt.close('all')
import matplotlib
matplotlib.use('TkAgg')
from matplotlib import pyplot as plt
plt.ion()


plt.hist([3,8,10])


def f(x):
    return 4*x**2 -6*x + 9


f(3)


x = np.arange(-5,5,0.25)
y = f(x)


%matplotlib inline
fig, ax = plt.subplots() 
ax.plot(x,y)






